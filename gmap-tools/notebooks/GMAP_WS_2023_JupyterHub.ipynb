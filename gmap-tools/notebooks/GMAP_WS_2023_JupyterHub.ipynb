{
  "nbformat": 4,
  "nbformat_minor": 0,
  "metadata": {
    "colab": {
      "provenance": []
    },
    "kernelspec": {
      "name": "python3",
      "display_name": "Python 3"
    },
    "language_info": {
      "name": "python"
    }
  },
  "cells": [
    {
      "cell_type": "markdown",
      "source": [
        "# GMAP Jupyter environment\n",
        "\n",
        "In this session I'll present the JupyterLab environment we have setup for the GMAP community and how _any_ planetary data scientist can benefit from that.\n",
        "\n",
        "After showing the GMAP JupyterHub we have running on our premises, https://jupyter.europlanet-gmap.eu, I will _teach_ you how to have the same environment running on your own computer. \n",
        "There are many components/concepts to catch-up in this session, and things may get a bit overwelming.\n",
        "Don't worry, stay with me, take notes, note your questions; If not already by the end of the session, by the end of the day you will have a fully working planetary data science environment and a bunch of new software concepts in at your portfolio ;)\n",
        "\n",
        "\n",
        "### Roadmap\n",
        "\n",
        "- What is Jupyter (Notebook, Lab, Hub), and why do we need it?\n",
        "- What is a planetary data science (software) environment?\n",
        "  * Python\n",
        "  * GDAL\n",
        "  * ISIS, ASP\n",
        "- GMAP'JupyterHub @ GMAP\n",
        "- GMAP'JupyterHub @ _you_\n",
        "\n",
        "\n",
        "## Jupyter (Notebook, Lab, Hub)\n",
        "\n",
        "- **Jupyter _Notebook_** is (or _was) a software that runs on your web-browser and allows for the creation of _notebooks like this one_: documents where we can mix (Python) code, the output of such code, and text and multimedia content all together.\n",
        "- Years went by, Jupyter _Notebook_ evolved into a better interface: **Jupyter _Lab_** (or Jupyter-Lab, or JupyterLab); The fundamental functionality is the same: provision of a feature-rich interface around _notebooks_ to document and run interactively (Python) code.\n",
        "- Finally, **Jupyter _Hub_** (Jupyter-Hub, JupyterHub) is a manager for multiple _Notebook_ or _Lab_ instances. It is used in a multi-user and distributed computing environment to control access and launch Jupyter-* instances.\n",
        "\n",
        "> Image of Jupyter Notebook, Jupyter Lab interfaces.\n",
        "\n",
        "For more information and details about the Jupyter project, visit https://jupyter.org/.\n",
        "\n",
        "\n",
        "## Planetary data science environment\n",
        "\n",
        "When we talk about a _data science environment_ -- in the context of software -- we are referring to a set of software tools and libraries necessary to proceed with the data analysis tasks at hand.\n",
        "In our case, the _tasks at hand_ correspond to processing, visualization, and management of planetary, georeferenced data.\n",
        "\n",
        "For instance, QGIS provides a whole environment for georeferenced data analysis; It is provides such environment through a _graphical interface_ and can be extended through Python plugins.\n",
        "\n",
        "In our case, though, the _data science environment_ we talking about is one step lower, at the command-line and/or Python code; Complementary to QGIS for whenever we need more control over the processing or -- effectively -- specific tools that go beyond georeferenced data: _planetary data_.\n",
        "\n",
        "The environment for planetary data we setup is composed by the following software:\n",
        "\n",
        "- GDAL: https://gdal.org/\n",
        "- ISIS: https://isis.astrogeology.usgs.gov/7.0.0/index.html\n",
        "- ASP: https://stereopipeline.readthedocs.io/en/latest/\n",
        "- Python GIS libraries\n",
        "\n"
      ],
      "metadata": {
        "id": "m-REgBe1EZFC"
      }
    }
  ]
}