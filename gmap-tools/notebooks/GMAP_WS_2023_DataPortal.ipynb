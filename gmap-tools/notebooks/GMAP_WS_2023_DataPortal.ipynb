{
  "nbformat": 4,
  "nbformat_minor": 0,
  "metadata": {
    "colab": {
      "provenance": []
    },
    "kernelspec": {
      "name": "python3",
      "display_name": "Python 3"
    },
    "language_info": {
      "name": "python"
    }
  },
  "cells": [
    {
      "cell_type": "markdown",
      "source": [
        "# GMAP Data publication\n",
        "\n",
        "In this session we are going to see how to publish a planetary data package on a platform like Zenodo. There is a discussion about the metadata relevant for describing planetary data and how to present them to the user through general-purpose data management systems.\n",
        "\n",
        "After presenting GMAP Data Portal, I will present the metadata model we use to describe our data packages (_i.e._, maps), and _teach_ you how to use such software; Either through the graphical user interface, as well as programmatically.\n",
        "GMAP Data Portal is an instance of InvenioRDM, the open-source software behind Zenodo, running on our premises, https://data.europlanet-gmap.eu.\n",
        "\n",
        "\n",
        "### Roadmap\n",
        "\n",
        "- What is Zenodo, and why do we need it?\n",
        "- GMAP Data Portal\n",
        "- What are metadata for planetary data?\n",
        "- Publish a demo package\n",
        "- Access data from Zenodo\n"
      ],
      "metadata": {
        "id": "A6RGsjRdjQyJ"
      }
    }
  ]
}