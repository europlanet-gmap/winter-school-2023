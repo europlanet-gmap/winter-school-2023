{
 "cells": [
  {
   "cell_type": "markdown",
   "id": "c638ca4b-d9b7-4672-bddb-800405005841",
   "metadata": {},
   "source": [
    "# Simple calculation with basic projection formulas (with/without the use of proj)"
   ]
  },
  {
   "cell_type": "markdown",
   "id": "1207a33e-166e-4705-8072-c9e376507d1a",
   "metadata": {
    "tags": []
   },
   "source": [
    "Figuring out the differences created by using the true scale latitude in an equirectangular projection. The same approach could be used e.g. to text angles, or areas, with two or more points, as needed.\n",
    "\n",
    "## Equirectangular projection equations\n",
    "\n",
    "From [Snyder](https://pubs.er.usgs.gov/publication/pp1395) (1987), see also [Wikipedia on Equirectangular projection page](https://en.wikipedia.org/wiki/Equirectangular_projection)\n",
    "\n",
    "## Symbols\n",
    "\n",
    "From Snyder (1987): \n",
    "\n",
    "<div class=\"alert alert-block alert-info\">  \n",
    "    \n",
    "$x =$ rectangular coordinate: distance to the right of the vertical line (Y axis)  passing through the origin or center of a projection (if negative, it is distance to the left). In practice, a \"false\" x or \"false easting'' is frequently added to all values of x to eliminate negative numbers\n",
    "\n",
    "$y =$ rectangular coordinate: distance above the horizontal line (X axis) passing through the origin or center of a projection (if negative, it is distance below). In practice, a \"false\" y or \"false northing\" is frequently added to all values of y to eliminate negative numbers.\n",
    "\n",
    "$h =$ relative scale factor along a meridian of longitude. (For general perspective projections, h is height above surface of ellipsoid.)\n",
    "\n",
    "$k =$ relative scale factor along a parallel of latitude\n",
    "\n",
    "$\\lambda = $ longitude east\n",
    "\n",
    "$\\lambda _{0} =$ longitude east of the central meridian of the map, or of the origin of the rectangular coordinates (for west longitude, use a minus sign). \n",
    "\n",
    "$\\phi = $ north geodetic or geographic latitude (if latitude is south, apply a minus sign).\n",
    "\n",
    "$\\phi _{1} =$ single standard parallel on cylindrical or conic projections; latitude of central point on azimuthal projections.\n",
    "    \n",
    "$R =$ radius of the sphere, either actual or that corresponding to scale of the map.\n",
    "</div>\n",
    "\n",
    "\n",
    "--- \n",
    "\n",
    "\n",
    "--- \n",
    "\n",
    "### Direct formulas (x,y metric from lat, lon degrees)\n",
    "\n",
    "Snyder's (1987) equations 12-1 to 12-4:\n",
    "\n",
    "$ x = R (\\lambda - \\lambda _{0}) cos \\phi _{1}$\n",
    "\n",
    "$y = R \\phi$\n",
    "\n",
    "$h = 1$\n",
    "\n",
    "$k = cos \\phi _{1} / cos \\phi$\n",
    "\n",
    "### Inverse formulas (lat, lon degrees, from x, y metric)\n",
    "\n",
    "Snyder's (1987) equations 12-5, 12-6\n",
    "\n",
    "$\\phi = y / R$\n",
    "\n",
    "$\\lambda = \\lambda _{0} + \\frac{x}{R cos \\phi _{1}}$"
   ]
  },
  {
   "cell_type": "markdown",
   "id": "7829d43b-5263-4ad5-8d09-fc11ffa0e9bc",
   "metadata": {},
   "source": [
    "## Use case, check Jezero with and without \"latitude of true scale\" set"
   ]
  },
  {
   "cell_type": "markdown",
   "id": "6a23d9fa-0527-42cd-b03a-7420e3ab257e",
   "metadata": {},
   "source": [
    "Jezero is centered at:\n",
    "\n",
    "**Longitude = 77.58 E**\n",
    "\n",
    "**Latitude = 18.38 N**\n",
    "\n",
    "THE Mars2020 team uses this:\n",
    "    \n",
    "```\n",
    " +proj=eqc +lat_ts=18.4663 +lat_0=0 +lon_0=0 +x_0=0 +y_0=0 +R=3396190 +units=m +no_defs\n",
    "```\n",
    "\n",
    "Note ```+lat_ts=18.4663```\n",
    "\n",
    "Our GIS data will use this:\n",
    "    \n",
    "```\n",
    "+proj=eqc +lat_ts=0 +lon_0=0 +x_0=0 +y_0=0 +R=3396190 +units=m +no_defs\n",
    "```\n",
    "\n",
    "i.e. ```+lat_ts=0``` if not specified (Please see: https://proj.org/operations/projections/eqc.html).\n",
    "\n"
   ]
  },
  {
   "cell_type": "markdown",
   "id": "ce8b7ae9-f227-4995-bd7d-f6822512a8dd",
   "metadata": {},
   "source": [
    "### Check the location of 2 points form the official traverse\n",
    "\n",
    "see also https://mars.nasa.gov/maps/?mission=M20\n",
    "\n",
    "e.g. \n",
    "\n",
    "<!-- ![overview](./images/overview_155_477.jpg)\n",
    " -->\n",
    " ![overview](https://raw.githubusercontent.com/europlanet-gmap/winter-school-2023/main/crs/notebooks/images/overview_155_477.jpg)\n",
    " \n",
    "#### Sol 155 - First Drill site\n",
    "\n",
    "<!-- ![155](./images/mars2020_sol155_zoom.jpg)\n",
    " -->\n",
    "![155](https://raw.githubusercontent.com/europlanet-gmap/winter-school-2023/main/crs/notebooks/images/mars2020_sol155_zoom.jpg)\n",
    "\n",
    "```\n",
    "{\"longitude\":{\"value\":77.4515774846077,\"unit\":\"degree\"},\"latitude\":{\"value\":18.427776796857273,\"unit\":\"degree\"},\"easting\":{\"value\":4590918.828103036,\"unit\":\"meter\"},\"northing\":{\"value\":1092300.8956607156,\"unit\":\"meter\"}}\n",
    "```\n",
    "\n",
    "Latitude = 18.427776796857273\n",
    "\n",
    "Longitude = 77.4515774846077\n",
    "\n",
    "Eastings (eqc) = 4590918.828103036\n",
    "\n",
    "Northings (eqc) = 1092300.8956607156\n",
    "\n",
    "#### Sol 477 \n",
    "\n",
    "<!-- ![477](./images/mars2020_sol477_zoom.jpg)\n",
    " -->\n",
    " ![155](https://raw.githubusercontent.com/europlanet-gmap/winter-school-2023/main/crs/notebooks/images/mars2020_sol477_zoom.jpg)\n",
    "\n",
    "\n",
    "Latitude = 18.458887871256312\n",
    "\n",
    "Longitude = 77.40616417917408\n",
    "\n",
    "Eastings (eqc) = 4588226.968159924\n",
    "\n",
    "Northings (eqc) = 1094144.9951853438\n",
    "\n",
    "```\n",
    "{\"longitude\":{\"value\":77.40616417917408,\"unit\":\"degree\"},\"latitude\":{\"value\":18.458887871256312,\"unit\":\"degree\"},\"easting\":{\"value\":4588226.968159924,\"unit\":\"meter\"},\"northing\":{\"value\":1094144.9951853438,\"unit\":\"meter\"}}\n",
    "```\n",
    "\n",
    "--- \n",
    "\n",
    "We can do some rounding (many decimal digits!)"
   ]
  },
  {
   "cell_type": "markdown",
   "id": "edf4006b-6bf7-4f5f-a37e-b84b61677a2e",
   "metadata": {},
   "source": [
    "### Calculate x, y in CRS with and without _+lat_ts_\n",
    "\n",
    "One can do this with [cs2cs](https://proj.org/apps/cs2cs.html) as CLI of proj, or e.g. with [pyproj](https://pyproj4.github.io/pyproj/stable/api/transformer.html). But since the formulas for the Equirectangular/Equidistant Cylindrical over a sphere are not complex, one can exemplify it by hand.\n"
   ]
  },
  {
   "cell_type": "code",
   "execution_count": 2,
   "id": "1f242341-263b-48db-9718-5a97779d50ac",
   "metadata": {},
   "outputs": [],
   "source": [
    "from math import pi\n",
    "\n",
    "lon_sol_155_deg = 77.451577 # 6 decimal digits, i.e. ~decimetric \n",
    "lat_sol_155_deg = 18.427777\n",
    "lon_sol_477_deg = 77.406164\n",
    "lat_sol_477_deg = 18.458888\n",
    "\n",
    "# they need to be in radians\n",
    "# radian = degree*(pi/180)\n",
    "\n",
    "lon_sol_155 = lon_sol_155_deg*(pi/180)\n",
    "lat_sol_155 = lat_sol_155_deg*(pi/180)\n",
    "lon_sol_477 = lon_sol_477_deg*(pi/180)\n",
    "lat_sol_477 = lat_sol_477_deg*(pi/180)\n",
    "\n",
    "\n",
    "# map projection parameters for Jezero \n",
    "lon_0 = 0 # central longitude\n",
    "lat_0 = 0 # central latitude\n",
    "x_0 = 0 # false eastings\n",
    "y_0 = 0 # false northings \n",
    "R = 3396190 # major radius of IAU2000 Mars ellipsoid A=3396190 m B=3376200 m\n",
    "\n",
    "lat_ts = 0 # default latitiude of true scale at equator\n",
    "\n",
    "# additional parameter for Mars2020 team:\n",
    "\n",
    "lat_ts_mars2020_deg = 18.4663\n",
    "lat_ts_mars2020 = lat_ts_mars2020_deg*(pi/180)\n"
   ]
  },
  {
   "cell_type": "markdown",
   "id": "319e1353-fb12-444d-b8ee-104a7854f627",
   "metadata": {},
   "source": [
    "### Calculate eastings, northings of points in both map projections"
   ]
  },
  {
   "cell_type": "code",
   "execution_count": 3,
   "id": "9c5fdb06-ab9c-4237-b4b9-f5f21eaac462",
   "metadata": {},
   "outputs": [],
   "source": [
    "from math import cos\n",
    "\n",
    "# Direct formulas for equirectangular\n",
    "def direct_eqc(lon, lat, lat_ts):\n",
    "    eastings_eqc = R*(lon - lon_0)*cos(lat_ts)\n",
    "    northings_eqc = R*lat\n",
    "    return(eastings_eqc, northings_eqc)\n",
    "\n",
    "# Inverse formulas for equirectangular\n",
    "def inverse_eqc(eastings, northings, lat_ts):\n",
    "    lon = northings/R\n",
    "    lat = lon_0 + eastings/(R*cos(lat_ts))\n",
    "    return(lon, lat)"
   ]
  },
  {
   "cell_type": "code",
   "execution_count": 4,
   "id": "1dea7200-1eb4-44d8-8b5b-f4b6e6084774",
   "metadata": {},
   "outputs": [
    {
     "name": "stdout",
     "output_type": "stream",
     "text": [
      "4590918.799378062 1092300.9077019393\n"
     ]
    }
   ],
   "source": [
    "# calculate for Sol 155 & lat_ts 0\n",
    "eastings_155_eqc, northings_155_eqc = (direct_eqc(lon_sol_155, lat_sol_155, 0))\n",
    "print(eastings_155_eqc, northings_155_eqc)"
   ]
  },
  {
   "cell_type": "code",
   "execution_count": 5,
   "id": "059f8db9-9c32-46bc-95cc-45257f58ddc8",
   "metadata": {},
   "outputs": [
    {
     "name": "stdout",
     "output_type": "stream",
     "text": [
      "4354532.951082128 1092300.9077019393\n"
     ]
    }
   ],
   "source": [
    "# calculate for Sol 155 & lat_ts = 18.4663\n",
    "eastings_155_team, northings_155_team = (direct_eqc(lon_sol_155, lat_sol_155, lat_ts_mars2020))\n",
    "print(eastings_155_team, northings_155_team)"
   ]
  },
  {
   "cell_type": "code",
   "execution_count": 6,
   "id": "2410309a-fbfd-4787-ab6b-a53a065d9b98",
   "metadata": {},
   "outputs": [
    {
     "name": "stdout",
     "output_type": "stream",
     "text": [
      "4588226.9575394355 1094145.002816587\n"
     ]
    }
   ],
   "source": [
    "# calculate for Sol 477 & lat_ts = 0\n",
    "eastings_477_eqc, northings_477_eqc = (direct_eqc(lon_sol_477, lat_sol_477, 0))\n",
    "print(eastings_477_eqc, northings_477_eqc)"
   ]
  },
  {
   "cell_type": "code",
   "execution_count": 7,
   "id": "4111db5b-0e46-4657-b698-a5270c40c258",
   "metadata": {},
   "outputs": [
    {
     "name": "stdout",
     "output_type": "stream",
     "text": [
      "4351979.711851021 1094145.002816587\n"
     ]
    }
   ],
   "source": [
    "# calculate for Sol 477 & lat_ts = 18.4663\n",
    "eastings_477_team, northings_477_team = (direct_eqc(lon_sol_477, lat_sol_477, lat_ts_mars2020))\n",
    "print(eastings_477_team, northings_477_team)"
   ]
  },
  {
   "cell_type": "markdown",
   "id": "3d746c23-ec43-43cd-98bf-f0d57c14d7aa",
   "metadata": {},
   "source": [
    "## Check with pyproj (this could have saved some time ;-) )\n",
    "\n",
    "see also https://pyproj4.github.io/pyproj/stable/api/transformer.html"
   ]
  },
  {
   "cell_type": "code",
   "execution_count": 8,
   "id": "8657e967-f651-4c75-958c-32519a1c7974",
   "metadata": {},
   "outputs": [
    {
     "name": "stdout",
     "output_type": "stream",
     "text": [
      "latitude, longitude for Sol 155 are:\n",
      "77.451577 18.427777 \n",
      "\n",
      "Eastings, northigns for Sol 155 in Equirectangular lat_ts=0 are:\n",
      "(4590918.799378062, 1092300.9077019393)\n",
      "Eastings, northigns for Sol 155 in Equirectangular lat_ts=18.4663 (Mars2020 Team) are:\n",
      "(4354532.951082128, 1092300.9077019393) \n",
      "\n",
      "Eastings northings for Sol 155 calculated ~by hand in Equirectangular lat_ts=0 are:\n",
      "4590918.799378062 1092300.9077019393\n",
      "Eastings northings for Sol 155 calculated ~by hand in Equirectangular lat_ts=18.4663 (Mars2020 Team) are:\n",
      "4354532.951082128 1092300.9077019393\n",
      "------------------------------------\n",
      "\n",
      "latitude, longitude for Sol 477 are:\n",
      "77.406164 18.458888 \n",
      "\n",
      "Eastings, northigns for Sol 477 in Equirectangular lat_ts=0 are:\n",
      "(4588226.9575394355, 1094145.002816587)\n",
      "Eastings, northigns for Sol 477 in Equirectangular lat_ts=18.4663 (Mars2020 Team) are:\n",
      "(4351979.71185102, 1094145.002816587) \n",
      "\n",
      "Eastings northings for Sol 477 calculated ~by hand in Equirectangular lat_ts=0 are:\n",
      "4588226.9575394355 1094145.002816587\n",
      "Eastings northings for Sol 477 calculated ~by hand in Equirectangular lat_ts=18.4663 (Mars2020 Team) are:\n",
      "4351979.711851021 1094145.002816587\n",
      "------------------------------------\n",
      "\n"
     ]
    }
   ],
   "source": [
    "from pyproj import Transformer\n",
    "\n",
    "# CRS from proj4 code\n",
    "lonlat_mars_sphere = \"+proj=latlong +R=3396190 +no_defs\"\n",
    "eqc_proj = \"+proj=eqc +lat_ts=0 +lon_0=0 +x_0=0 +y_0=0 +R=3396190 +units=m +no_defs\"\n",
    "mars2020_team_proj = \"+proj=eqc +lat_ts=18.4663 +lat_0=0 +lon_0=0 +x_0=0 +y_0=0 +R=3396190 +units=m +no_defs\"\n",
    "\n",
    "# set transformatiomn\n",
    "lonlat_to_eqc = Transformer.from_crs(lonlat_mars_sphere, eqc_proj)\n",
    "lonlat_to_mars2020team = Transformer.from_crs(lonlat_mars_sphere, mars2020_team_proj)\n",
    "\n",
    "print('latitude, longitude for Sol 155 are:')\n",
    "print(lon_sol_155_deg, lat_sol_155_deg, '\\n')\n",
    "      \n",
    "print('Eastings, northigns for Sol 155 in Equirectangular lat_ts=0 are:')\n",
    "print(lonlat_to_eqc.transform(lon_sol_155_deg, lat_sol_155_deg))\n",
    "\n",
    "print('Eastings, northigns for Sol 155 in Equirectangular lat_ts=18.4663 (Mars2020 Team) are:')\n",
    "print(lonlat_to_mars2020team.transform(lon_sol_155_deg, lat_sol_155_deg),'\\n')\n",
    "\n",
    "print('Eastings northings for Sol 155 calculated ~by hand in Equirectangular lat_ts=0 are:')\n",
    "print(eastings_155_eqc, northings_155_eqc)\n",
    "\n",
    "print('Eastings northings for Sol 155 calculated ~by hand in Equirectangular lat_ts=18.4663 (Mars2020 Team) are:')\n",
    "print(eastings_155_team, northings_155_team)\n",
    "print('------------------------------------\\n')\n",
    "\n",
    "print('latitude, longitude for Sol 477 are:')\n",
    "print(lon_sol_477_deg, lat_sol_477_deg, '\\n')\n",
    "      \n",
    "print('Eastings, northigns for Sol 477 in Equirectangular lat_ts=0 are:')\n",
    "print(lonlat_to_eqc.transform(lon_sol_477_deg, lat_sol_477_deg))\n",
    "\n",
    "print('Eastings, northigns for Sol 477 in Equirectangular lat_ts=18.4663 (Mars2020 Team) are:')\n",
    "print(lonlat_to_mars2020team.transform(lon_sol_477_deg, lat_sol_477_deg),'\\n')\n",
    "\n",
    "print('Eastings northings for Sol 477 calculated ~by hand in Equirectangular lat_ts=0 are:')\n",
    "print(eastings_477_eqc, northings_477_eqc)\n",
    "\n",
    "print('Eastings northings for Sol 477 calculated ~by hand in Equirectangular lat_ts=18.4663 (Mars2020 Team) are:')\n",
    "print(eastings_477_team, northings_477_team)\n",
    "print('------------------------------------\\n')\n",
    "\n",
    "# lonlat_to_eqc"
   ]
  },
  {
   "cell_type": "markdown",
   "id": "7ac8b99c-87bd-433a-adfa-4bc7b6e259e8",
   "metadata": {},
   "source": [
    "Comparable with:\n",
    "    \n",
    "(from MMGIS)\n",
    "\n",
    "**Sol 155**\n",
    "\n",
    "{\"longitude\":{\"value\":77.4515774846077,\"unit\":\"degree\"},\"latitude\":{\"value\":18.427776796857273,\"unit\":\"degree\"},\"easting\":{\"value\":4590918.828103036,\"unit\":\"meter\"},\"northing\":{\"value\":1092300.8956607156,\"unit\":\"meter\"}}\n",
    "\n",
    "**Sol 477**\n",
    "\n",
    "{\"longitude\":{\"value\":77.40616417917408,\"unit\":\"degree\"},\"latitude\":{\"value\":18.458887871256312,\"unit\":\"degree\"},\"easting\":{\"value\":4588226.968159924,\"unit\":\"meter\"},\"northing\":{\"value\":1094144.9951853438,\"unit\":\"meter\"}}"
   ]
  },
  {
   "cell_type": "markdown",
   "id": "bce4585a-188a-4b21-ba3c-794036e310e0",
   "metadata": {},
   "source": [
    "### Calculate distance among points for the 2 pairs of x,y"
   ]
  },
  {
   "cell_type": "code",
   "execution_count": 9,
   "id": "390485f9-dac4-4d3a-a156-ac6efcea2d6a",
   "metadata": {},
   "outputs": [
    {
     "name": "stdout",
     "output_type": "stream",
     "text": [
      "distance between position at Sol 155 and 477 (Equirectangular, lat_ts=0) =  3262.9280218916474\n",
      "distance between position at Sol 155 and 477 (TEAM, lat_ts=18.4663) =  3149.5582806371876\n"
     ]
    }
   ],
   "source": [
    "from math import sqrt\n",
    "\n",
    "delta_x_eqc = eastings_477_eqc - eastings_155_eqc\n",
    "delta_y_eqc = northings_477_eqc - northings_155_eqc\n",
    "\n",
    "delta_x_team = eastings_477_team - eastings_155_team\n",
    "delta_y_team = northings_477_team - northings_155_team\n",
    "\n",
    "# distance among the locations of Sol 155 and Sol 477\n",
    "d_eqc = sqrt(delta_x_eqc**2 + delta_y_eqc**2)\n",
    "d_team = sqrt(delta_x_team**2 + delta_y_team**2)\n",
    "\n",
    "print('distance between position at Sol 155 and 477 (Equirectangular, lat_ts=0) = ', d_eqc)\n",
    "print('distance between position at Sol 155 and 477 (TEAM, lat_ts=18.4663) = ', d_team)"
   ]
  },
  {
   "cell_type": "code",
   "execution_count": 10,
   "id": "5b6961c8-7e58-42ab-9545-1ce40fd6cc8a",
   "metadata": {},
   "outputs": [
    {
     "name": "stdout",
     "output_type": "stream",
     "text": [
      "the difference in distance measured between a lat_ts=0 and lat_ts centered in Jezero is  113.36974125445977  over  3149.5582806371876\n",
      "the difference is in 3.5995441631111498 %\n"
     ]
    }
   ],
   "source": [
    "delta_d = d_eqc - d_team\n",
    "print('the difference in distance measured between a lat_ts=0 and lat_ts centered in Jezero is ', delta_d, ' over ', d_team)\n",
    "\n",
    "difference = delta_d/d_team*100\n",
    "print('the difference is in', difference,'%')"
   ]
  },
  {
   "cell_type": "markdown",
   "id": "a5b8a735-e2a5-46ad-8fb0-705a6fc3af8f",
   "metadata": {},
   "source": [
    "# References\n",
    "\n",
    "PROJ contributors (2020). PROJ coordinate transformation software library. Open Source Geospatial Foundation. URL https://proj.org/. DOI: 10.5281/zenodo.5884394\n",
    "\n",
    "Snow, A., Whitaker, et al. (2022). pyproj4/pyproj: 3.4.1 Release (3.4.1). Zenodo. https://doi.org/10.5281/zenodo.7430570\n",
    "\n",
    "Snyder (1987) Map projections: A working manual, USGS Professional Paper No. 1395, 385 p. - https://pubs.er.usgs.gov/publication/pp1395 / https://doi.org/10.3133/pp1395"
   ]
  }
 ],
 "metadata": {
  "kernelspec": {
   "display_name": "datas",
   "language": "python",
   "name": "datas"
  },
  "language_info": {
   "codemirror_mode": {
    "name": "ipython",
    "version": 3
   },
   "file_extension": ".py",
   "mimetype": "text/x-python",
   "name": "python",
   "nbconvert_exporter": "python",
   "pygments_lexer": "ipython3",
   "version": "3.7.13"
  }
 },
 "nbformat": 4,
 "nbformat_minor": 5
}
